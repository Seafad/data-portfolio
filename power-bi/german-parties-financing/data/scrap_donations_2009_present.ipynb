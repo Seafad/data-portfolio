{
 "cells": [
  {
   "cell_type": "code",
   "execution_count": 4,
   "metadata": {},
   "outputs": [
    {
     "name": "stdout",
     "output_type": "stream",
     "text": [
      "Wrong donor information format: ['Sydslesvigudvalget/', 'Undervisningsministeriet', 'Übersetzung:', 'Südschleswig-Ausschuss/ Unterrichtsministerium Frederiksholmkanal 25', 'DK-1220 København K']\n",
      "Wrong donor information format: ['Sydslesvigudvalget/', 'Undervisningsministeriet', 'Übersetzung:', 'Südschleswig-Ausschuss/ Unterrichtsministerium Frederiksholmkanal 25', 'DK-1220 København K']\n",
      "Wrong donor information format: ['Sydslesvigudvalget/', 'Undervisningsministeriet', 'Übersetzung:', 'Südschleswig-Ausschuss/ Unterrichtsministerium Frederiksholmkanal 25', 'DK-1220 København K']\n",
      "Wrong donor information format: ['Sydslesvigudvalget/', 'Undervisningsministeriet', 'Übersetzung:', 'Südschleswig-Ausschuss/ Unterrichtsministerium', 'Frederiksholmkanal 25', 'DK-1220 København K']\n",
      "Wrong donor information format: ['Sydslesvigudvalget/', 'Undervisningsministeriet', 'Übersetzung:', 'Südschleswig-Ausschuss/ Unterrichtsministerium', 'Frederiksholmkanal 25', 'DK-1220 København K']\n",
      "Wrong donor information format: ['Gröner', 'Family Office', 'GmbH', 'Binger Straße 40', '14197 Berlin']\n",
      "Wrong donor information format: ['Sydslesvigudvalget/ Kulturministeriet;', 'Übersetzung:', 'Südschleswig-Ausschuss/ Kulturministerium', 'Nybrogade 2', '1203 København K., Dänemark']\n",
      "Wrong donor information format: ['Verband der Bayerischen', 'Metall- und', 'Elektro-Industrie e.V.', 'Max-Joseph-Straße 5', '80333 München']\n",
      "Wrong donor information format: ['Verband der Bayerischen', 'Metall- und', 'Elektro-Industrie e.V.', 'Max-Joseph-Straße 5', '80333 München']\n",
      "Wrong donor information format: ['Sydslesvigudvalget/ Kulturministeriet;', 'Kulturstyrelsen', 'Übersetzung: Südschleswig-Ausschuss/Kulturministerium', 'Nybrogade 2', '1203 København K.', 'Dänemark']\n",
      "Wrong donor information format: ['Sydslesvigudvalget/ Kulturministeriet;', 'Kulturstyrelsen', 'Übersetzung: Südschleswig-Ausschuss/Kulturministerium', 'Nybrogade 2', '1203 København K.', 'Dänemark']\n",
      "Wrong donor information format: ['Sydslesvigudvalget/ Kulturministeriet;', 'Kulturstyrelsen', 'Übersetzung: Südschleswig-Ausschuss/Kulturministerium', 'Nybrogade 2', '1203 København K.', 'Dänemark']\n",
      "Wrong donor information format: ['Sydslesvigudvalget/ Kulturministeriet;', 'Kulturstyrelsen', 'Übersetzung: Südschleswig-Ausschuss/Kulturministerium', 'Nybrogade 2', '1203 København K.', 'Dänemark']\n"
     ]
    }
   ],
   "source": [
    "import requests\n",
    "from scrapper import scrap_donor_data\n",
    "import pandas as pd\n",
    "\n",
    "years = range(2009, 2024)\n",
    "df_all = pd.DataFrame()\n",
    "\n",
    "for year in years:\n",
    "    url = f\"https://www.bundestag.de/parlament/praesidium/parteienfinanzierung/fundstellen50000/{year}\"\n",
    "\n",
    "    # Make a request to the website\n",
    "    response = requests.get(url)\n",
    "\n",
    "    # Check if the request was successful\n",
    "    if response.status_code == 200:\n",
    "        # Get the HTML content of the webpage\n",
    "        html_content = response.text\n",
    "    else:\n",
    "        print(f\"Failed to retrieve content for year {year}. Status code: {response.status_code}\")\n",
    "\n",
    "    df = scrap_donor_data(html_content)\n",
    "\n",
    "    # Parse the currency from text (German format, e.g. 15.000,40)\n",
    "    german_currency_regex = r\"(\\d{1,3}(?:\\.\\d{3})+(?:,\\d\\d)?)\"\n",
    "    df[\"Donation Amount\"] = df[\"Donation Amount\"].str.extract(german_currency_regex)\n",
    "\n",
    "    # Parse the dates from text (European format dd.mm.yyyy)\n",
    "    date_regex = r\"(\\d{2}\\.\\d{2}\\.\\d{4})\"\n",
    "    df[\"Donation Date\"] = df[\"Donation Date\"].str.extract(date_regex)\n",
    "    df[\"Notification Date\"] = df[\"Notification Date\"].str.extract(date_regex)\n",
    "\n",
    "    # Best attempt to parse ZIPs, including international ones\n",
    "    zip_regex = r\"(.*\\d+[-\\ ]+\\d*(?:[ ]?[A-Z]{2})?)(.+)\"\n",
    "    df[['Donor ZIP','Donor City']] = df[\"Donor ZIP and City\"].str.extract(zip_regex)\n",
    "    df_all = pd.concat([df_all, df], ignore_index=True)\n",
    "\n",
    "df_all.to_csv('donations_2009-2023.csv')"
   ]
  }
 ],
 "metadata": {
  "kernelspec": {
   "display_name": "Python 3",
   "language": "python",
   "name": "python3"
  },
  "language_info": {
   "codemirror_mode": {
    "name": "ipython",
    "version": 3
   },
   "file_extension": ".py",
   "mimetype": "text/x-python",
   "name": "python",
   "nbconvert_exporter": "python",
   "pygments_lexer": "ipython3",
   "version": "3.12.2"
  }
 },
 "nbformat": 4,
 "nbformat_minor": 2
}
